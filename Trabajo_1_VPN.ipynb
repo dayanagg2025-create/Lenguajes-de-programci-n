{
  "nbformat": 4,
  "nbformat_minor": 0,
  "metadata": {
    "colab": {
      "provenance": [],
      "authorship_tag": "ABX9TyMMNTtVWq3z1nPVKk/hWcmH",
      "include_colab_link": true
    },
    "kernelspec": {
      "name": "python3",
      "display_name": "Python 3"
    },
    "language_info": {
      "name": "python"
    }
  },
  "cells": [
    {
      "cell_type": "markdown",
      "metadata": {
        "id": "view-in-github",
        "colab_type": "text"
      },
      "source": [
        "<a href=\"https://colab.research.google.com/github/dayanagg2025-create/Lenguajes-de-programci-n/blob/main/Trabajo_1_VPN.ipynb\" target=\"_parent\"><img src=\"https://colab.research.google.com/assets/colab-badge.svg\" alt=\"Open In Colab\"/></a>"
      ]
    },
    {
      "cell_type": "code",
      "execution_count": 1,
      "metadata": {
        "id": "91RVQVhngIgM"
      },
      "outputs": [],
      "source": []
    },
    {
      "cell_type": "markdown",
      "source": [
        "# VALOR PRESENTE NETO (VPN)\n",
        "\n",
        "El Valor Presente Neto (VPN), tambien conocido como Valor Actual Neto (VAN), es un método de evaluación financiera que calcula la diferencia entre el valor actual de los flujos de efectivo futuros esperados de un proyecto y la inversión inicial. Este indicador considera el valor del dinero en el tiempo, descondando los flujos futuros a una tasa de interés específica para determinar si la inversión generará ganancias (VPN positivo) o pérdidas (VPN negativo) en términos actuales.\n",
        "\n",
        "## Fórmula del Valor Presente Neto (VPN)\n",
        "\n",
        "\\[\n",
        "$$\n",
        "VPN = \\sum_{t==}^{n} \\frac{C_t}{(1+r)^t} - C_0\n",
        "$$\n",
        "\n",
        "\\]\n",
        "\n",
        "Donde:\n",
        "- *C_t* es el flujo de caja en el tiempo *t*.\n",
        "- *r* es la tasa de descuento.\n",
        "- *n* es el número total de los periodos.\n",
        "- C_0 es la inversión incial.\n",
        "\n",
        "## Interpretación\n",
        "- *VPN > 0*, la inversión es rentable.\n",
        "- *VPN < 0*, la inversión no es rentable.\n",
        "- *VPN = 0*, la inversión no genera ni pérdidas, ni ganancias.\n",
        "\n",
        "\n",
        "\n",
        "\n",
        "\n"
      ],
      "metadata": {
        "id": "5bdMJKia8H1Y"
      }
    },
    {
      "cell_type": "code",
      "source": [
        "inversion_inicial =10000\n",
        "flujo_ano_1 = 3000\n",
        "flujo_ano_2 = 3000\n",
        "flujo_ano_3 = 3000\n",
        "\n",
        "tasa_descuento = 0.05"
      ],
      "metadata": {
        "id": "168Sr02uBRb5"
      },
      "execution_count": 2,
      "outputs": []
    },
    {
      "cell_type": "code",
      "source": [
        "vpn = (flujo_ano_1/((1+tasa_descuento)**1)) + \\\n",
        " (flujo_ano_2/((1+tasa_descuento)**2)) + \\\n",
        "  (flujo_ano_3/((1+tasa_descuento)**3)) - inversion_inicial\n",
        "\n",
        "print(\"el Valor Presente Neto (VPN) es:\", vpn)"
      ],
      "metadata": {
        "colab": {
          "base_uri": "https://localhost:8080/"
        },
        "id": "tHpn3G0jCNf7",
        "outputId": "3a31cf96-f886-4023-eb40-8343cb2b79e5"
      },
      "execution_count": 3,
      "outputs": [
        {
          "output_type": "stream",
          "name": "stdout",
          "text": [
            "el Valor Presente Neto (VPN) es: -1830.2559118885656\n"
          ]
        }
      ]
    },
    {
      "cell_type": "code",
      "source": [
        "if vpn > 0:\n",
        "  print(\"el proyecto es viable. ya que el VPN es positivo\")\n",
        "else:\n",
        "  print(\"el proyecto no es viable, ya que le VPN es negativo\")\n"
      ],
      "metadata": {
        "colab": {
          "base_uri": "https://localhost:8080/"
        },
        "id": "xkYKtzYKFYKl",
        "outputId": "6b446146-c3ab-4fc6-8b23-05e9874cfb3b"
      },
      "execution_count": 4,
      "outputs": [
        {
          "output_type": "stream",
          "name": "stdout",
          "text": [
            "el proyecto no es viable, ya que le VPN es negativo\n"
          ]
        }
      ]
    },
    {
      "cell_type": "markdown",
      "source": [
        "[Link de consulta VPN](https://blog.hubspot.es/sales/que-es-valor-presente-neto)"
      ],
      "metadata": {
        "id": "vpzy0IhJ52_-"
      }
    },
    {
      "cell_type": "markdown",
      "source": [
        "## Imagen\n",
        "![Imagen VPN](https://www.gerencie.com/wp-content/uploads/valor-presente-neto.png)"
      ],
      "metadata": {
        "id": "r2t4h2fQ6HJV"
      }
    }
  ]
}